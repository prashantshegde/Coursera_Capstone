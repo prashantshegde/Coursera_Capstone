{
    "cells": [
        {
            "cell_type": "markdown",
            "metadata": {},
            "source": "Import Pandas Library to Read the wikipedia Content"
        },
        {
            "cell_type": "code",
            "execution_count": 29,
            "metadata": {},
            "outputs": [],
            "source": "import pandas as pd"
        },
        {
            "cell_type": "markdown",
            "metadata": {},
            "source": "Read the data from wikipedia using read_html method from pandas library."
        },
        {
            "cell_type": "code",
            "execution_count": 30,
            "metadata": {},
            "outputs": [],
            "source": "df_canada_postal_code = pd.read_html('https://en.wikipedia.org/wiki/List_of_postal_codes_of_Canada:_M')[0]\n#df_canada_postal_code"
        },
        {
            "cell_type": "markdown",
            "metadata": {},
            "source": "Rename the column from Postal Code to PostalCode as given in the requirements."
        },
        {
            "cell_type": "code",
            "execution_count": 31,
            "metadata": {},
            "outputs": [],
            "source": "df_canada_postal_code.rename(columns = {'Postal code':'PostalCode'}, inplace = True) "
        },
        {
            "cell_type": "markdown",
            "metadata": {},
            "source": "Check to see the unique values of 'Borough' column so that we can delete the non assigned rows."
        },
        {
            "cell_type": "code",
            "execution_count": 32,
            "metadata": {},
            "outputs": [
                {
                    "data": {
                        "text/plain": "array(['Not assigned', 'North York', 'Downtown Toronto', 'Etobicoke',\n       'Scarborough', 'East York', 'York', 'East Toronto', 'West Toronto',\n       'Central Toronto', 'Mississauga'], dtype=object)"
                    },
                    "execution_count": 32,
                    "metadata": {},
                    "output_type": "execute_result"
                }
            ],
            "source": "df_canada_postal_code['Borough'].unique()"
        },
        {
            "cell_type": "markdown",
            "metadata": {},
            "source": "Drop Not assigned rows and then reset index"
        },
        {
            "cell_type": "code",
            "execution_count": 33,
            "metadata": {},
            "outputs": [],
            "source": "df_canada_postal_code1=df_canada_postal_code[df_canada_postal_code['Borough'] != 'Not assigned']\ndf_canada_postal_code1.reset_index(drop=True, inplace=True)"
        },
        {
            "cell_type": "markdown",
            "metadata": {},
            "source": "One requirement is to replace the \"/\" with comma so that multiple neighborhoods for same zip code (postal code) appear in same line.\nStep1:- Search and replace comma in the Neighborhood with a hyphen so that any neighborhood that has a comma as part of the address is considered a single name.\nStep2:- Search and replace \"/\" with a comma to get the final output."
        },
        {
            "cell_type": "code",
            "execution_count": 34,
            "metadata": {},
            "outputs": [
                {
                    "data": {
                        "text/plain": "(103, 3)"
                    },
                    "execution_count": 34,
                    "metadata": {},
                    "output_type": "execute_result"
                }
            ],
            "source": "df_canada_postal_code1.loc[:,'Neighborhood'] = df_canada_postal_code1['Neighborhood'].str.replace(', ','-')\ndf_canada_postal_code1.loc[:,'Neighborhood'] = df_canada_postal_code1['Neighborhood'].str.replace('/',',')\ndf_canada_postal_code1.shape"
        },
        {
            "cell_type": "code",
            "execution_count": 35,
            "metadata": {},
            "outputs": [
                {
                    "data": {
                        "text/html": "<div>\n<style scoped>\n    .dataframe tbody tr th:only-of-type {\n        vertical-align: middle;\n    }\n\n    .dataframe tbody tr th {\n        vertical-align: top;\n    }\n\n    .dataframe thead th {\n        text-align: right;\n    }\n</style>\n<table border=\"1\" class=\"dataframe\">\n  <thead>\n    <tr style=\"text-align: right;\">\n      <th></th>\n      <th>PostalCode</th>\n      <th>Borough</th>\n      <th>Neighborhood</th>\n    </tr>\n  </thead>\n  <tbody>\n    <tr>\n      <th>0</th>\n      <td>M3A</td>\n      <td>North York</td>\n      <td>Parkwoods</td>\n    </tr>\n    <tr>\n      <th>1</th>\n      <td>M4A</td>\n      <td>North York</td>\n      <td>Victoria Village</td>\n    </tr>\n    <tr>\n      <th>2</th>\n      <td>M5A</td>\n      <td>Downtown Toronto</td>\n      <td>Regent Park , Harbourfront</td>\n    </tr>\n    <tr>\n      <th>3</th>\n      <td>M6A</td>\n      <td>North York</td>\n      <td>Lawrence Manor , Lawrence Heights</td>\n    </tr>\n    <tr>\n      <th>4</th>\n      <td>M7A</td>\n      <td>Downtown Toronto</td>\n      <td>Queen's Park , Ontario Provincial Government</td>\n    </tr>\n    <tr>\n      <th>5</th>\n      <td>M9A</td>\n      <td>Etobicoke</td>\n      <td>Islington Avenue</td>\n    </tr>\n    <tr>\n      <th>6</th>\n      <td>M1B</td>\n      <td>Scarborough</td>\n      <td>Malvern , Rouge</td>\n    </tr>\n    <tr>\n      <th>7</th>\n      <td>M3B</td>\n      <td>North York</td>\n      <td>Don Mills</td>\n    </tr>\n    <tr>\n      <th>8</th>\n      <td>M4B</td>\n      <td>East York</td>\n      <td>Parkview Hill , Woodbine Gardens</td>\n    </tr>\n    <tr>\n      <th>9</th>\n      <td>M5B</td>\n      <td>Downtown Toronto</td>\n      <td>Garden District-Ryerson</td>\n    </tr>\n  </tbody>\n</table>\n</div>",
                        "text/plain": "  PostalCode           Borough                                  Neighborhood\n0        M3A        North York                                     Parkwoods\n1        M4A        North York                              Victoria Village\n2        M5A  Downtown Toronto                    Regent Park , Harbourfront\n3        M6A        North York             Lawrence Manor , Lawrence Heights\n4        M7A  Downtown Toronto  Queen's Park , Ontario Provincial Government\n5        M9A         Etobicoke                              Islington Avenue\n6        M1B       Scarborough                               Malvern , Rouge\n7        M3B        North York                                     Don Mills\n8        M4B         East York              Parkview Hill , Woodbine Gardens\n9        M5B  Downtown Toronto                       Garden District-Ryerson"
                    },
                    "execution_count": 35,
                    "metadata": {},
                    "output_type": "execute_result"
                }
            ],
            "source": "df_canada_postal_code1.head(10)"
        },
        {
            "cell_type": "code",
            "execution_count": null,
            "metadata": {},
            "outputs": [],
            "source": ""
        }
    ],
    "metadata": {
        "kernelspec": {
            "display_name": "Python 3.6",
            "language": "python",
            "name": "python3"
        },
        "language_info": {
            "codemirror_mode": {
                "name": "ipython",
                "version": 3
            },
            "file_extension": ".py",
            "mimetype": "text/x-python",
            "name": "python",
            "nbconvert_exporter": "python",
            "pygments_lexer": "ipython3",
            "version": "3.6.9"
        }
    },
    "nbformat": 4,
    "nbformat_minor": 1
}